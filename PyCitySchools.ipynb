{
 "cells": [
  {
   "cell_type": "code",
   "execution_count": 3,
   "metadata": {},
   "outputs": [],
   "source": [
    "import pandas as pd\n",
    "import os"
   ]
  },
  {
   "cell_type": "code",
   "execution_count": 5,
   "metadata": {},
   "outputs": [],
   "source": [
    "# Files to load\n",
    "school_data_to_load = \"Resources/schools_complete.csv\"\n",
    "student_data_to_load = \"Resources/students_complete.csv\""
   ]
  },
  {
   "cell_type": "code",
   "execution_count": 6,
   "metadata": {},
   "outputs": [],
   "source": [
    "school_data_df = pd.read_csv(school_data_to_load)\n",
    "student_data_df = pd.read_csv(student_data_to_load)"
   ]
  },
  {
   "cell_type": "code",
   "execution_count": 23,
   "metadata": {},
   "outputs": [
    {
     "output_type": "stream",
     "name": "stdout",
     "text": [
      "Students dataframe dims:\n Student ID       39170\nstudent_name     39170\ngender           39170\ngrade            39170\nschool_name      39170\nreading_score    39170\nmath_score       39170\ndtype: int64\n\nNulls in student dataframe:\n Student ID       0\nstudent_name     0\ngender           0\ngrade            0\nschool_name      0\nreading_score    0\nmath_score       0\ndtype: int64\n\nData types in student dataframe:\n Student ID        int64\nstudent_name     object\ngender           object\ngrade            object\nschool_name      object\nreading_score     int64\nmath_score        int64\ndtype: object\n\nSchools dataframe dims:\n School ID      15\nschool_name    15\ntype           15\nsize           15\nbudget         15\ndtype: int64\n\nNulls in schools dataframe:\n School ID      0\nschool_name    0\ntype           0\nsize           0\nbudget         0\ndtype: int64\nData types in schools dataframe:\n School ID       int64\nschool_name    object\ntype           object\nsize            int64\nbudget          int64\ndtype: object\n"
     ]
    }
   ],
   "source": [
    "# Initial exploration\n",
    "print(\"Students dataframe dims:\\n\",student_data_df.count())\n",
    "print(\"\\nNulls in student dataframe:\\n\", student_data_df.isnull().sum())\n",
    "print(\"\\nData types in student dataframe:\\n\", student_data_df.dtypes)\n",
    "\n",
    "print(\"\\nSchools dataframe dims:\\n\",school_data_df.count())\n",
    "print(\"\\nNulls in schools dataframe:\\n\", school_data_df.isnull().sum())\n",
    "print(\"Data types in schools dataframe:\\n\", school_data_df.dtypes)\n"
   ]
  },
  {
   "cell_type": "code",
   "execution_count": 26,
   "metadata": {},
   "outputs": [
    {
     "output_type": "execute_result",
     "data": {
      "text/plain": [
       "dtype('int64')"
      ]
     },
     "metadata": {},
     "execution_count": 26
    }
   ],
   "source": [
    "school_data_df.budget.dtype"
   ]
  },
  {
   "cell_type": "code",
   "execution_count": null,
   "metadata": {},
   "outputs": [],
   "source": []
  }
 ],
 "metadata": {
  "kernelspec": {
   "display_name": "PythonData",
   "language": "python",
   "name": "pythondata"
  }
 },
 "nbformat": 4,
 "nbformat_minor": 4
}